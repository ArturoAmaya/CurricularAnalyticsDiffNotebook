{
 "cells": [
  {
   "cell_type": "markdown",
   "metadata": {},
   "source": [
    "# Curricular Analytics - What if? Simulator"
   ]
  },
  {
   "cell_type": "markdown",
   "metadata": {},
   "source": [
    "Hi! This notebook is here to walk you through simulating changes to a curriculum. You give us the file and the desired change and we'll tell you how that affects complexity and centrality, and why. But first, let us do some basic-set up. Run the cell below to do that:"
   ]
  },
  {
   "cell_type": "code",
   "execution_count": 11,
   "metadata": {},
   "outputs": [],
   "source": [
    "using CurricularAnalytics, CurricularAnalyticsDiff"
   ]
  },
  {
   "cell_type": "markdown",
   "metadata": {},
   "source": [
    "Ok! We're all set! There are four modifications you can make: you can add a course, remove a course, add a prereq and remove a prereq. After adding the curriculum you wish to change by running the next cell, just scroll on down to the section you want to work with. Currently, we'll be adding the FILENAME file in the targets folder. Feel free to upload your own curriculum file and change the file path."
   ]
  },
  {
   "cell_type": "code",
   "execution_count": 12,
   "metadata": {},
   "outputs": [
    {
     "data": {
      "text/plain": [
       "Curriculum(3121226513, \"Chemical Engineering\", \"University of California\", \"BS\", quarter, \"14.0701\", AbstractCourse[Course(1, Dict(3121226513 => 1), \"MATH 20A\", 4, \"MATH\", \"20A\", \"\", \"\", \"\", Course[], \"\", Dict{Int64, Requisite}(), LearningOutcome[], Dict{String, Any}(), Dict{String, Any}(), 0.5), Course(2, Dict(3121226513 => 2), \"CENG 15\", 4, \"CENG\", \"15\", \"\", \"\", \"\", Course[], \"\", Dict{Int64, Requisite}(), LearningOutcome[], Dict{String, Any}(), Dict{String, Any}(), 0.5), Course(3, Dict(3121226513 => 3), \"CENG 4\", 1, \"CENG\", \"4\", \"\", \"\", \"\", Course[], \"\", Dict{Int64, Requisite}(), LearningOutcome[], Dict{String, Any}(), Dict{String, Any}(), 0.5), Course(4, Dict(3121226513 => 4), \"CHEM 6A\", 4, \"CHEM\", \"6A\", \"\", \"\", \"\", Course[], \"\", Dict{Int64, Requisite}(), LearningOutcome[], Dict{String, Any}(), Dict{String, Any}(), 0.5), Course(5, Dict(3121226513 => 5), \"MATH 20B\", 4, \"MATH\", \"20B\", \"\", \"\", \"\", Course[], \"\", Dict{Int64, Requisite}(1 => pre), LearningOutcome[], Dict{String, Any}(), Dict{String, Any}(), 0.5), Course(6, Dict(3121226513 => 6), \"PHYS 2A\", 4, \"PHYS\", \"2A\", \"\", \"\", \"\", Course[], \"\", Dict{Int64, Requisite}(1 => pre), LearningOutcome[], Dict{String, Any}(), Dict{String, Any}(), 0.5), Course(7, Dict(3121226513 => 7), \"CHEM 6B\", 4, \"CHEM\", \"6B\", \"\", \"\", \"\", Course[], \"\", Dict{Int64, Requisite}(4 => pre, 1 => pre), LearningOutcome[], Dict{String, Any}(), Dict{String, Any}(), 0.5), Course(8, Dict(3121226513 => 8), \"MATH 20C\", 4, \"MATH\", \"20C\", \"\", \"\", \"\", Course[], \"\", Dict{Int64, Requisite}(5 => pre), LearningOutcome[], Dict{String, Any}(), Dict{String, Any}(), 0.5), Course(9, Dict(3121226513 => 9), \"PHYS 2B\", 4, \"PHYS\", \"2B\", \"\", \"\", \"\", Course[], \"\", Dict{Int64, Requisite}(5 => pre, 6 => pre, 1 => pre), LearningOutcome[], Dict{String, Any}(), Dict{String, Any}(), 0.5), Course(10, Dict(3121226513 => 10), \"CHEM 6C\", 4, \"CHEM\", \"6C\", \"\", \"\", \"\", Course[], \"\", Dict{Int64, Requisite}(7 => pre), LearningOutcome[], Dict{String, Any}(), Dict{String, Any}(), 0.5)  …  Course(38, Dict(3121226513 => 38), \"ADV. CHEM 2\", 4, \"\", \"\", \"\", \"\", \"\", Course[], \"\", Dict{Int64, Requisite}(), LearningOutcome[], Dict{String, Any}(), Dict{String, Any}(), 0.5), Course(39, Dict(3121226513 => 39), \"GE 1\", 4, \"\", \"\", \"\", \"\", \"\", Course[], \"\", Dict{Int64, Requisite}(), LearningOutcome[], Dict{String, Any}(), Dict{String, Any}(), 0.5), Course(40, Dict(3121226513 => 40), \"ADV. CHEM 3\", 4, \"\", \"\", \"\", \"\", \"\", Course[], \"\", Dict{Int64, Requisite}(), LearningOutcome[], Dict{String, Any}(), Dict{String, Any}(), 0.5), Course(41, Dict(3121226513 => 41), \"GE 2\", 4, \"\", \"\", \"\", \"\", \"\", Course[], \"\", Dict{Int64, Requisite}(), LearningOutcome[], Dict{String, Any}(), Dict{String, Any}(), 0.5), Course(42, Dict(3121226513 => 42), \"GE 3\", 4, \"\", \"\", \"\", \"\", \"\", Course[], \"\", Dict{Int64, Requisite}(), LearningOutcome[], Dict{String, Any}(), Dict{String, Any}(), 0.5), Course(43, Dict(3121226513 => 43), \"GE 4\", 4, \"\", \"\", \"\", \"\", \"\", Course[], \"\", Dict{Int64, Requisite}(), LearningOutcome[], Dict{String, Any}(), Dict{String, Any}(), 0.5), Course(44, Dict(3121226513 => 44), \"GE 5\", 4, \"\", \"\", \"\", \"\", \"\", Course[], \"\", Dict{Int64, Requisite}(), LearningOutcome[], Dict{String, Any}(), Dict{String, Any}(), 0.5), Course(45, Dict(3121226513 => 45), \"GE 6\", 4, \"\", \"\", \"\", \"\", \"\", Course[], \"\", Dict{Int64, Requisite}(), LearningOutcome[], Dict{String, Any}(), Dict{String, Any}(), 0.5), Course(46, Dict(3121226513 => 46), \"UD GE 1\", 4, \"\", \"\", \"\", \"\", \"\", Course[], \"\", Dict{Int64, Requisite}(), LearningOutcome[], Dict{String, Any}(), Dict{String, Any}(), 0.5), Course(47, Dict(3121226513 => 47), \"UD GE 2\", 4, \"\", \"\", \"\", \"\", \"\", Course[], \"\", Dict{Int64, Requisite}(), LearningOutcome[], Dict{String, Any}(), Dict{String, Any}(), 0.5)], 47, 187, Graphs.SimpleGraphs.SimpleDiGraph{Int64}(49, [[5, 6, 7, 9, 14], [19, 22, 26], Int64[], [7], [8, 9, 14], [9, 14, 15, 21], [10, 11, 13], [12, 14, 17, 18], [15], [17]  …  Int64[], Int64[], Int64[], Int64[], Int64[], Int64[], Int64[], Int64[], Int64[], Int64[]], [Int64[], Int64[], Int64[], Int64[], [1], [1], [1, 4], [5], [1, 5, 6], [7]  …  Int64[], Int64[], Int64[], Int64[], Int64[], Int64[], Int64[], Int64[], Int64[], Int64[]]), LearningOutcome[], Graphs.SimpleGraphs.SimpleDiGraph{Int64}(0, Vector{Int64}[], Vector{Int64}[]), {47, 49} directed Int64 metagraph with Float64 weights defined by :weight (default weight 1.0), Dict{String, Any}(), Dict{String, Any}())"
      ]
     },
     "metadata": {},
     "output_type": "display_data"
    }
   ],
   "source": [
    "curr = read_csv(\"./targets/SY-Degree Plan-Marshall-CE25 2017.csv\");\n",
    "# dont' worry about this, this is just to make sure we're working with curricula, not degree plans\n",
    "if typeof(curr) == DegreePlan\n",
    "    curr = curr.curriculum\n",
    "end"
   ]
  },
  {
   "cell_type": "markdown",
   "metadata": {},
   "source": [
    "# Make modifications"
   ]
  },
  {
   "cell_type": "markdown",
   "metadata": {},
   "source": [
    "## Add a Course:\n"
   ]
  },
  {
   "cell_type": "markdown",
   "metadata": {},
   "source": [
    "Let's add a course. A course is defined by a few things. It has a name, credit_hours, and prerequisites. It also usually has a list of classes that depend on it. i.e. the classes that have it as a prerequisite. Lets define those things right now. \n",
    "\n",
    "NOTE:\n",
    "When editing the prereqs field, make sure the \"COURSE NAME #\" field is replaced by the name of the existing course in the target curriculum that is to become a prereq of your new course. The same concept applies to the \"COURSE NAME #\" in the dependencies field. Once you're done adding prerequisites and dependencies, delete the extra fields.\n",
    "Pre refers to the type of prerequisite. For now, let's leave that alone."
   ]
  },
  {
   "cell_type": "markdown",
   "metadata": {},
   "source": [
    "As an example, let's try to add MATH 20C to a curriculum.\n",
    "\n",
    "new_course_name = \"MATH 20C\"\n",
    "\n",
    "new_course_credit_hours = 4.0\n",
    "\n",
    "prereqs = Dict(\"MATH 18\" => pre,\n",
    "               \"MATH 20B\" => pre)\n",
    "               \n",
    "dependencies = Dict(\"MATH 20D\" => pre, \"MATH 20E\" => pre)\n",
    "\n",
    "Note that in a curriculum where MATH 20B is called \"MATH 20B/10B\" or something like that you must use the name used in the curriculum file, otherwise this will NOT work. "
   ]
  },
  {
   "cell_type": "code",
   "execution_count": 13,
   "metadata": {},
   "outputs": [
    {
     "data": {
      "text/plain": [
       "Dict{String, Requisite} with 1 entry:\n",
       "  \"BENG 130\" => pre"
      ]
     },
     "metadata": {},
     "output_type": "display_data"
    }
   ],
   "source": [
    "new_course_name = \"AAAH 100\"\n",
    "new_course_credit_hours = 4.0 # defualt, you can change it to 1.0,2.0,3.0, etc\n",
    "prereqs = Dict(\"MATH 20B\" => pre)\n",
    "dependencies = Dict(\"BENG 130\" => pre)"
   ]
  },
  {
   "cell_type": "markdown",
   "metadata": {},
   "source": [
    "Run the above cell once you're done, then run this one:"
   ]
  },
  {
   "cell_type": "code",
   "execution_count": 14,
   "metadata": {},
   "outputs": [
    {
     "ename": "MethodError",
     "evalue": "MethodError: no method matching add_course(::Curriculum, ::String, ::Float64, ::Dict{String, Requisite}, ::Dict{String, Requisite})\nClosest candidates are:\n  add_course(::Curriculum, ::AbstractString, ::Real, !Matched::Dict{Any, Any}, !Matched::Dict{Any, Any}) at C:\\Users\\artut\\.julia\\packages\\CurricularAnalyticsDiff\\RvrK7\\src\\Whatif.jl:15",
     "output_type": "error",
     "traceback": [
      "MethodError: no method matching add_course(::Curriculum, ::String, ::Float64, ::Dict{String, Requisite}, ::Dict{String, Requisite})\n",
      "Closest candidates are:\n",
      "  add_course(::Curriculum, ::AbstractString, ::Real, !Matched::Dict{Any, Any}, !Matched::Dict{Any, Any}) at C:\\Users\\artut\\.julia\\packages\\CurricularAnalyticsDiff\\RvrK7\\src\\Whatif.jl:15\n",
      "\n",
      "Stacktrace:\n",
      " [1] top-level scope\n",
      "   @ c:\\Users\\artut\\OneDrive\\Documents\\Arturo's Stuff - Not Auto-Gen App content\\School & UCSD\\UCSD\\Work\\Curriculum Diff Fn\\CurricularAnalyticsDiff\\CurricularAnalyticsDiffNotebook\\WhatIf.ipynb:1"
     ]
    }
   ],
   "source": [
    "new_curric = add_course(curr, new_course_name, new_course_credit_hours, prereqs, dependencies)"
   ]
  },
  {
   "cell_type": "markdown",
   "metadata": {},
   "source": [
    "## Remove a course"
   ]
  },
  {
   "cell_type": "markdown",
   "metadata": {},
   "source": [
    "Removing a course is pretty easy. Just tell us the name of the course to be removed in the field below. Remember, it must match exactly with the name used in the curriculum file. "
   ]
  },
  {
   "cell_type": "code",
   "execution_count": null,
   "metadata": {},
   "outputs": [],
   "source": [
    "course_to_remove = \"COURSE NAME\""
   ]
  },
  {
   "cell_type": "markdown",
   "metadata": {},
   "source": [
    "Then, run this cell:"
   ]
  },
  {
   "cell_type": "code",
   "execution_count": null,
   "metadata": {},
   "outputs": [],
   "source": [
    "new_curric = remove_course(curr, course_to_remove)"
   ]
  },
  {
   "cell_type": "markdown",
   "metadata": {},
   "source": [
    "## Add a prerequisite"
   ]
  },
  {
   "cell_type": "markdown",
   "metadata": {},
   "source": [
    "To add a prerequisite to a course tell us the name of the course, and the name of the prerequisite you wish to add to it. Remember, both names must already exist in the curriculum and must match exactly with your names. For example, if MATH 20B shows up as \"MATH 20B/10B\" in your curriculum, use that."
   ]
  },
  {
   "cell_type": "code",
   "execution_count": null,
   "metadata": {},
   "outputs": [],
   "source": [
    "course_name = \"COURSE TO GET A PREREQUISITE\"\n",
    "prerequisite = \"PREREQ NAME\"\n",
    "req_type = pre"
   ]
  },
  {
   "cell_type": "markdown",
   "metadata": {},
   "source": [
    "Once you're ready, run this cell:"
   ]
  },
  {
   "cell_type": "code",
   "execution_count": null,
   "metadata": {},
   "outputs": [],
   "source": [
    "new_curric = add_prereq(curr, course_name, prerequisite,req_type)"
   ]
  },
  {
   "cell_type": "markdown",
   "metadata": {},
   "source": [
    "## Remove a prerequisite"
   ]
  },
  {
   "cell_type": "markdown",
   "metadata": {},
   "source": [
    "Removing a prerequisite needs the name of the course in question, and the name of the course which we want to remove as its prerequisite. Remember the names need to match the ones used in the curriculum file exactly."
   ]
  },
  {
   "cell_type": "code",
   "execution_count": null,
   "metadata": {},
   "outputs": [],
   "source": [
    "course_name = \"COURSE TO LOSE A PREREQUISITE\";\n",
    "prerequisite = \"PREREQUISITE TO BE LOST\";"
   ]
  },
  {
   "cell_type": "markdown",
   "metadata": {},
   "source": [
    "All good? Run the cell below"
   ]
  },
  {
   "cell_type": "code",
   "execution_count": null,
   "metadata": {},
   "outputs": [],
   "source": [
    "new_curric = remove_prereq(curr,course_name,prerequisite);"
   ]
  },
  {
   "cell_type": "markdown",
   "metadata": {},
   "source": [
    "# How did that affect the Curricular Metrics?"
   ]
  },
  {
   "cell_type": "markdown",
   "metadata": {},
   "source": [
    "This is an easy question to answer. Just run the cell below after having made a new_curric with one of the previous modifications"
   ]
  },
  {
   "cell_type": "code",
   "execution_count": null,
   "metadata": {},
   "outputs": [],
   "source": [
    "results = curricular_diff(curr,new_curric);"
   ]
  },
  {
   "cell_type": "markdown",
   "metadata": {},
   "source": [
    "Once you're done with that, choose how you want to see your results: executive summary or pretty print"
   ]
  },
  {
   "cell_type": "code",
   "execution_count": null,
   "metadata": {},
   "outputs": [],
   "source": [
    "executive_summary_curriculum(results)"
   ]
  },
  {
   "cell_type": "code",
   "execution_count": null,
   "metadata": {},
   "outputs": [],
   "source": [
    "pretty_print_curriculum_results(results, ALL)"
   ]
  },
  {
   "cell_type": "markdown",
   "metadata": {},
   "source": [
    "# Wrapping up"
   ]
  },
  {
   "cell_type": "markdown",
   "metadata": {},
   "source": [
    "You can play around with this file, and you can write your new curriculum to file with the following cell. Unfortunately, we can't visualize the curricula here in this notebook, but you can take them over to the curricular analytics website to view."
   ]
  },
  {
   "cell_type": "code",
   "execution_count": null,
   "metadata": {},
   "outputs": [],
   "source": [
    "write_csv(new_curric, \"./newfile.csv\")"
   ]
  },
  {
   "cell_type": "markdown",
   "metadata": {},
   "source": [
    "The full package is available to you now to use. If you wish to make more complex modifications, be our guest! With these very basic building blocks you can make very complex edits to curricula."
   ]
  }
 ],
 "metadata": {
  "kernelspec": {
   "display_name": "Julia 1.7.2",
   "language": "julia",
   "name": "julia-1.7"
  },
  "language_info": {
   "file_extension": ".jl",
   "mimetype": "application/julia",
   "name": "julia",
   "version": "1.7.2"
  }
 },
 "nbformat": 4,
 "nbformat_minor": 4
}
