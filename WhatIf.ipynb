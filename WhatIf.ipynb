{
 "cells": [
  {
   "cell_type": "markdown",
   "metadata": {},
   "source": [
    "# Curricular Analytics - What if? Simulator"
   ]
  },
  {
   "cell_type": "markdown",
   "metadata": {},
   "source": [
    "Hi! This notebook is here to walk you through simulating changes to a curriculum. You give us the file and the desired change and we'll tell you how that affects complexity and centrality, and why. There are animated examples for each section. If there's an error you don't understand, or you want to suggest improvements, please contact [a1amaya@ucsd.edu](mailto:a1amaya@ucsd.edu). But first, let us do some basic-set up. Run the cell below to do that: (if you've never used a Jupyter Notebook, press ctrl+Enter or cmd+Enter to run a selected cell)"
   ]
  },
  {
   "cell_type": "code",
   "execution_count": 1,
   "metadata": {},
   "outputs": [],
   "source": [
    "using CurricularAnalytics, CurricularAnalyticsDiff"
   ]
  },
  {
   "cell_type": "markdown",
   "metadata": {},
   "source": [
    "Ok! We're all set! There are four modifications you can make: you can add a course, remove a course, add a prereq and remove a prereq. After adding the curriculum you wish to change by running the next cell, just scroll on down to the section you want to work with. Currently, we'll be adding the FILENAME file in the targets folder. Feel free to upload your own curriculum file and change the file path."
   ]
  },
  {
   "cell_type": "markdown",
   "metadata": {},
   "source": [
    "<img src=\"./assets/SelectAFile.gif\" />"
   ]
  },
  {
   "cell_type": "code",
   "execution_count": null,
   "metadata": {},
   "outputs": [],
   "source": [
    "curr = read_csv(\"./targets/FILENAME.csv\");\n",
    "# dont' worry about this, this is just to make sure we're working with curricula, not degree plans\n",
    "if typeof(curr) == DegreePlan\n",
    "    curr = curr.curriculum\n",
    "end"
   ]
  },
  {
   "cell_type": "markdown",
   "metadata": {},
   "source": [
    "# Make modifications"
   ]
  },
  {
   "cell_type": "markdown",
   "metadata": {},
   "source": [
    "## Add a Course:\n"
   ]
  },
  {
   "cell_type": "markdown",
   "metadata": {},
   "source": [
    "Let's add a course. A course is defined by a few things. It has a name, credit_hours, and prerequisites. It also usually has a list of classes that depend on it. i.e. the classes that have it as a prerequisite. Let's define those things right now. \n",
    "\n",
    "NOTE:\n",
    "When editing the prereqs field, make sure the \"COURSE NAME #\" field is replaced by the name of the existing course in the target curriculum that is to become a prereq of your new course. The same concept applies to the \"COURSE NAME #\" in the dependencies field. Once you're done adding prerequisites and dependencies, delete the extra fields.\n",
    "Pre refers to the type of prerequisite. For now, let's leave that alone."
   ]
  },
  {
   "cell_type": "markdown",
   "metadata": {},
   "source": [
    "As an example, let's try to add MATH 20C to a curriculum.\n",
    "\n",
    "new_course_name = \"MATH 20C\"\n",
    "\n",
    "new_course_credit_hours = 4.0\n",
    "\n",
    "prereqs = Dict(\"MATH 18\" => pre,\n",
    "               \"MATH 20B\" => pre)\n",
    "               \n",
    "dependencies = Dict(\"MATH 20D\" => pre, \"MATH 20E\" => pre)\n",
    "\n",
    "Note that in a curriculum where MATH 20B is called \"MATH 20B/10B\" or something like that you must use the name used in the curriculum file, otherwise this will NOT work. "
   ]
  },
  {
   "cell_type": "markdown",
   "metadata": {},
   "source": [
    "<img src=\"./assets/AddACourse.gif\" />"
   ]
  },
  {
   "cell_type": "code",
   "execution_count": null,
   "metadata": {},
   "outputs": [],
   "source": [
    "new_course_name = \"NEW COURSE NAME\";\n",
    "new_course_credit_hours = 4.0; # defualt, you can change it to 1.0,2.0,3.0, etc\n",
    "prereqs = Dict(\"PREREQ 1\" => pre,\n",
    "               \"PREREQ 2\" => pre,\n",
    "               \"PREREQ 3\" => pre);\n",
    "dependencies = Dict(\"DEPENDENT 1\" => pre,\n",
    "                    \"DEPENDENT 2\" => pre,\n",
    "                    \"DEPENDENT 3\" => pre);"
   ]
  },
  {
   "cell_type": "markdown",
   "metadata": {},
   "source": [
    "Run the above cell once you're done, then run this one:"
   ]
  },
  {
   "cell_type": "code",
   "execution_count": null,
   "metadata": {},
   "outputs": [],
   "source": [
    "new_curric = add_course(curr, new_course_name, new_course_credit_hours, prereqs, dependencies);\n",
    "errors = IOBuffer();\n",
    "isvalid_curriculum(new_curric,errors)"
   ]
  },
  {
   "cell_type": "markdown",
   "metadata": {},
   "source": [
    "If you're getting an error, please make sure all the course names you're using match the ones in the file exactly."
   ]
  },
  {
   "cell_type": "markdown",
   "metadata": {},
   "source": [
    "## Remove a course"
   ]
  },
  {
   "cell_type": "markdown",
   "metadata": {},
   "source": [
    "Removing a course is pretty easy. Just tell us the name of the course to be removed in the field below. Remember, it must match exactly with the name used in the curriculum file. "
   ]
  },
  {
   "cell_type": "markdown",
   "metadata": {},
   "source": [
    "<img src=\"./assets/RemoveACourse.gif\" style=\"margin: -20px 0px -150px 0px\"/>"
   ]
  },
  {
   "cell_type": "code",
   "execution_count": null,
   "metadata": {},
   "outputs": [],
   "source": [
    "course_to_remove = \"COURSE NAME\";"
   ]
  },
  {
   "cell_type": "markdown",
   "metadata": {},
   "source": [
    "Then, run this cell:"
   ]
  },
  {
   "cell_type": "code",
   "execution_count": null,
   "metadata": {},
   "outputs": [],
   "source": [
    "new_curric = remove_course(curr, course_to_remove);\n",
    "errors = IOBuffer();\n",
    "isvalid_curriculum(new_curric,errors)"
   ]
  },
  {
   "cell_type": "markdown",
   "metadata": {},
   "source": [
    "## Add a prerequisite"
   ]
  },
  {
   "cell_type": "markdown",
   "metadata": {},
   "source": [
    "To add a prerequisite to a course tell us the name of the course, and the name of the prerequisite you wish to add to it. Remember, both names must already exist in the curriculum and must match exactly with your names. For example, if MATH 20B shows up as \"MATH 20B/10B\" in your curriculum, use that."
   ]
  },
  {
   "cell_type": "markdown",
   "metadata": {},
   "source": [
    "<img src=\"./assets/AddAPrereq.gif\" />"
   ]
  },
  {
   "cell_type": "code",
   "execution_count": null,
   "metadata": {},
   "outputs": [],
   "source": [
    "course_name = \"COURSE TO GET A PREREQUISITE\";\n",
    "prerequisite = \"PREREQ NAME\";\n",
    "req_type = pre;"
   ]
  },
  {
   "cell_type": "markdown",
   "metadata": {},
   "source": [
    "Once you're ready, run this cell:"
   ]
  },
  {
   "cell_type": "code",
   "execution_count": null,
   "metadata": {},
   "outputs": [],
   "source": [
    "new_curric = add_prereq(curr, course_name, prerequisite,req_type);\n",
    "errors = IOBuffer();\n",
    "isvalid_curriculum(new_curric,errors)"
   ]
  },
  {
   "cell_type": "markdown",
   "metadata": {},
   "source": [
    "## Remove a prerequisite"
   ]
  },
  {
   "cell_type": "markdown",
   "metadata": {},
   "source": [
    "Removing a prerequisite needs the name of the course in question, and the name of the course which we want to remove as its prerequisite. Remember the names need to match the ones used in the curriculum file exactly."
   ]
  },
  {
   "cell_type": "markdown",
   "metadata": {},
   "source": [
    "<img src=\"./assets/RemoveAPrereq.gif\" />"
   ]
  },
  {
   "cell_type": "code",
   "execution_count": null,
   "metadata": {},
   "outputs": [],
   "source": [
    "course_name = \"COURSE TO LOSE A PREREQUISITE\";\n",
    "prerequisite = \"PREREQUISITE TO BE LOST\";"
   ]
  },
  {
   "cell_type": "markdown",
   "metadata": {},
   "source": [
    "All good? Run the cell below"
   ]
  },
  {
   "cell_type": "code",
   "execution_count": null,
   "metadata": {},
   "outputs": [],
   "source": [
    "new_curric = remove_prereq(curr,course_name,prerequisite);\n",
    "errors = IOBuffer();\n",
    "isvalid_curriculum(new_curric,errors)"
   ]
  },
  {
   "cell_type": "markdown",
   "metadata": {},
   "source": [
    "# How did that affect the Curricular Metrics?"
   ]
  },
  {
   "cell_type": "markdown",
   "metadata": {},
   "source": [
    "This is an easy question to answer. Just run the cell below after having made a new_curric with one of the previous modifications"
   ]
  },
  {
   "cell_type": "code",
   "execution_count": null,
   "metadata": {},
   "outputs": [],
   "source": [
    "results = curricular_diff(curr,new_curric);"
   ]
  },
  {
   "cell_type": "markdown",
   "metadata": {},
   "source": [
    "Once you're done with that, choose how you want to see your results: executive summary or pretty print"
   ]
  },
  {
   "cell_type": "code",
   "execution_count": null,
   "metadata": {},
   "outputs": [],
   "source": [
    "executive_summary_curriculum(results)"
   ]
  },
  {
   "cell_type": "code",
   "execution_count": null,
   "metadata": {},
   "outputs": [],
   "source": [
    "pretty_print_curriculum_results(results, ALL)"
   ]
  },
  {
   "cell_type": "markdown",
   "metadata": {},
   "source": [
    "# Wrapping up"
   ]
  },
  {
   "cell_type": "markdown",
   "metadata": {},
   "source": [
    "You can play around with this file, and you can write your new curriculum to file with the following cell. Unfortunately, we can't visualize the curricula here in this notebook, but you can take them over to the curricular analytics website to view."
   ]
  },
  {
   "cell_type": "markdown",
   "metadata": {},
   "source": [
    "<img src=\"./assets/DownloadAFile.gif\" />"
   ]
  },
  {
   "cell_type": "code",
   "execution_count": null,
   "metadata": {},
   "outputs": [],
   "source": [
    "write_csv(new_curric, \"./newfile.csv\")"
   ]
  },
  {
   "cell_type": "markdown",
   "metadata": {},
   "source": [
    "The full package is available to you now to use. If you wish to make more complex modifications, be our guest! With these very basic building blocks you can make very complex edits to curricula."
   ]
  },
  {
   "cell_type": "markdown",
   "metadata": {},
   "source": [
    "# UCSD Specific:"
   ]
  },
  {
   "cell_type": "markdown",
   "metadata": {},
   "source": [
    "This is slightly more experimental. Let's see how deleting a prerequisite can affect several majors."
   ]
  },
  {
   "cell_type": "code",
   "execution_count": 3,
   "metadata": {},
   "outputs": [
    {
     "data": {
      "text/plain": [
       "true"
      ]
     },
     "metadata": {},
     "output_type": "display_data"
    }
   ],
   "source": [
    "UCSD = read_csv(\"./targets/condensed.csv\");\n",
    "isvalid_curriculum(UCSD,IOBuffer())"
   ]
  },
  {
   "cell_type": "code",
   "execution_count": null,
   "metadata": {},
   "outputs": [],
   "source": [
    "target = \"TARGET NAME\";\n",
    "prereq = \"PREREQ NAME\";\n",
    "target_course = course_from_name(UCSD,target);\n",
    "prereq_course = course_from_name(UCSD,prereq);"
   ]
  },
  {
   "cell_type": "code",
   "execution_count": null,
   "metadata": {},
   "outputs": [],
   "source": [
    "delete_requisite!(prereq_course,target_course)\n",
    "# if it's all good:\\n,\n",
    "target_course_majors = split(target_course.canonical_name,\",\");\n",
    "prereq_course_majors = split(prereq_course.canonical_name,\",\");\n",
    "prev_major = \"PL99\";\n",
    "count = 0;\n",
    "for major in target_course_majors\n",
    "    if major in prereq_course_majors\n",
    "        #println(\"\\n$major\")\n",
    "        if major != \"\" \n",
    "            if major[1:4] != prev_major[1:4]\n",
    "                prev_major = major\n",
    "                print(\"\\n$(major[1:4]): $(major[5:end]), \");\n",
    "                count += 1\n",
    "            elseif major != prev_major\n",
    "                prev_major = major\n",
    "                print(\"$(major[5:end]), \");\n",
    "                count += 1\n",
    "            end\n",
    "        end\n",
    "    end\n",
    "end\n",
    "println()\n",
    "print(\"Affected plans: $count\")"
   ]
  },
  {
   "cell_type": "markdown",
   "metadata": {},
   "source": [
    "Ok, removing a course should be pretty simple"
   ]
  },
  {
   "cell_type": "code",
   "execution_count": null,
   "metadata": {},
   "outputs": [],
   "source": [
    "UCSD = read_csv(\"./targets/condensed.csv\");\n",
    "course_to_remove_name = \"COURSE NAME\"\n",
    "course_to_remove = course_from_name(UCSD,course_to_remove_name);"
   ]
  },
  {
   "cell_type": "code",
   "execution_count": null,
   "metadata": {},
   "outputs": [],
   "source": [
    "affected_majors = split(course_to_remove.canonical_name,\",\");\n",
    "prev_major = \"PL99\";\n",
    "count = 0;\n",
    "for major in affected_majors\n",
    "    if major != \"\" \n",
    "        if major[1:4] != prev_major[1:4]\n",
    "            prev_major = major\n",
    "            print(\"\\n$(major[1:4]): $(major[5:end]), \");\n",
    "            count += 1\n",
    "        elseif major != prev_major\n",
    "            prev_major = major\n",
    "            print(\"$(major[5:end]), \");\n",
    "            count += 1\n",
    "        end\n",
    "    end\n",
    "end\n",
    "println()\n",
    "print(\"Affected plans: $count\")\n",
    "# NOTE THIS DOESNT ACTUALLY CHANGE THE CURRICULUM OBJECT OK?"
   ]
  },
  {
   "cell_type": "markdown",
   "metadata": {},
   "source": [
    "Note that printing the majors that class is associated with should be enough. Checking all the classes that depend on itor it depends on *should* be redundant - if that class is linked to this one explicitly in a major they should both appear in that curriculum. Thus that major should appear in this class's canonical name. TODO proof."
   ]
  },
  {
   "cell_type": "markdown",
   "metadata": {},
   "source": [
    "Next, we should talk about adding classes or adding prerequisites. This is slightly more complicated. A new class doesn't have any majors to be associated with inherently (altough that's an option for the future) so we need to hook it up and then check all of its dependents and all of its prereqs. TODO: formal proof."
   ]
  },
  {
   "cell_type": "code",
   "execution_count": null,
   "metadata": {},
   "outputs": [],
   "source": [
    "UCSD = read_csv(\"./targets/condensed.csv\");\n",
    "new_course_name = \"NEW COURSE NAME\";\n",
    "new_course_credit_hours = 4.0; # defualt, you can change it to 1.0,2.0,3.0, etc\n",
    "prereqs = Dict(\"PREREQ 1\" => pre,\n",
    "               \"PREREQ 2\" => pre,\n",
    "               \"PREREQ 3\" => pre);\n",
    "dependencies = Dict(\"DEPENDENT 1\" => pre,\n",
    "                    \"DEPENDENT 2\" => pre,\n",
    "                    \"DEPENDENT 3\" => pre);\n",
    "new_UCSD = add_course(UCSD, new_course_name, new_course_credit_hours, prereqs, dependencies);\n",
    "errors = IOBuffer();\n",
    "isvalid_curriculum(new_UCSD,errors)"
   ]
  },
  {
   "cell_type": "code",
   "execution_count": 7,
   "metadata": {},
   "outputs": [
    {
     "name": "stdout",
     "output_type": "stream",
     "text": [
      "Any[\"\", \"BE25FI\", \"BE25MU\", \"BE25RE\", \"BE25SI\", \"BE25SN\", \"BE25TH\", \"BE25WA\", \"BE25curriculum\", \"BE27FI\", \"BE27MU\", \"BE27RE\", \"BE27SI\", \"BE27SN\", \"BE27TH\", \"BE27WA\", \"BE27curriculum\", \"BE28FI\", \"BE28MU\", \"BE28RE\", \"BE28SI\", \"BE28SN\", \"BE28TH\", \"BE28WA\", \"BE28curriculum\", \"BE29FI\", \"BE29MU\", \"BE29RE\", \"BE29SI\", \"BE29SN\", \"BE29TH\", \"BE29WA\", \"BE29curriculum\", \"BI34FI\", \"BI34MU\", \"BI34RE\", \"BI34SI\", \"BI34SN\", \"BI34TH\", \"BI34WA\", \"BI34curriculum\", \"CE25FI\", \"CE25MU\", \"CE25RE\", \"CE25SI\", \"CE25SN\", \"CE25TH\", \"CE25WA\", \"CE25curriculum\", \"CH25FI\", \"CH25MU\", \"CH25RE\", \"CH25SI\", \"CH25SN\", \"CH25TH\", \"CH25WA\", \"CH25curriculum\", \"CH34FI\", \"CH34MU\", \"CH34RE\", \"CH34SI\", \"CH34SN\", \"CH34TH\", \"CH34WA\", \"CH34curriculum\", \"CH35FI\", \"CH35MU\", \"CH35RE\", \"CH35SI\", \"CH35SN\", \"CH35TH\", \"CH35WA\", \"CH35curriculum\", \"CH36FI\", \"CH36MU\", \"CH36RE\", \"CH36SI\", \"CH36SN\", \"CH36TH\", \"CH36WA\", \"CH36curriculum\", \"CH38FI\", \"CH38MU\", \"CH38RE\", \"CH38SI\", \"CH38SN\", \"CH38TH\", \"CH38WA\", \"CH38curriculum\", \"CS25FI\", \"CS25MU\", \"CS25RE\", \"CS25SI\", \"CS25SN\", \"CS25TH\", \"CS25WA\", \"CS25curriculum\", \"CS27FI\", \"CS27MU\", \"CS27RE\", \"CS27SI\", \"CS27SN\", \"CS27TH\", \"CS27WA\", \"CS27curriculum\", \"DS25FI\", \"DS25MU\", \"DS25RE\", \"DS25SI\", \"DS25SN\", \"DS25TH\", \"DS25WA\", \"DS25curriculum\", \"EC26FI\", \"EC26MU\", \"EC26RE\", \"EC26SI\", \"EC26SN\", \"EC26TH\", \"EC26WA\", \"EC26curriculum\", \"EC27FI\", \"EC27MU\", \"EC27RE\", \"EC27SI\", \"EC27SN\", \"EC27TH\", \"EC27WA\", \"EC27curriculum\", \"EC28FI\", \"EC28MU\", \"EC28RE\", \"EC28SI\", \"EC28SN\", \"EC28TH\", \"EC28WA\", \"EC28curriculum\", \"EC37FI\", \"EC37MU\", \"EC37RE\", \"EC37SI\", \"EC37SN\", \"EC37TH\", \"EC37WA\", \"EC37curriculum\", \"EN25FI\", \"EN25MU\", \"EN25RE\", \"EN25SI\", \"EN25SN\", \"EN25TH\", \"EN25WA\", \"EN25curriculum\", \"EN28FI\", \"EN28MU\", \"EN28RE\", \"EN28SI\", \"EN28SN\", \"EN28TH\", \"EN28WA\", \"EN28curriculum\", \"EN30FI\", \"EN30MU\", \"EN30RE\", \"EN30SI\", \"EN30SN\", \"EN30TH\", \"EN30WA\", \"EN30curriculum\", \"ES25FI\", \"ES25MU\", \"ES25RE\", \"ES25SI\", \"ES25SN\", \"ES25TH\", \"ES25WA\", \"ES25curriculum\", \"ES27FI\", \"ES27MU\", \"ES27RE\", \"ES27SI\", \"ES27SN\", \"ES27TH\", \"ES27WA\", \"ES27curriculum\", \"MA27FI\", \"MA27MU\", \"MA27RE\", \"MA27SI\", \"MA27SN\", \"MA27TH\", \"MA27WA\", \"MA27curriculum\", \"MA29FI\", \"MA29MU\", \"MA29RE\", \"MA29SI\", \"MA29SN\", \"MA29TH\", \"MA29WA\", \"MA29curriculum\", \"MA30FI\", \"MA30MU\", \"MA30RE\", \"MA30SI\", \"MA30SN\", \"MA30TH\", \"MA30WA\", \"MA30curriculum\", \"MA31FI\", \"MA31MU\", \"MA31RE\", \"MA31SI\", \"MA31SN\", \"MA31TH\", \"MA31WA\", \"MA31curriculum\", \"MA32FI\", \"MA32MU\", \"MA32RE\", \"MA32SI\", \"MA32SN\", \"MA32TH\", \"MA32WA\", \"MA32curriculum\", \"MA33FI\", \"MA33MU\", \"MA33RE\", \"MA33SI\", \"MA33SN\", \"MA33TH\", \"MA33WA\", \"MA33curriculum\", \"MA35FI\", \"MA35MU\", \"MA35RE\", \"MA35SI\", \"MA35SN\", \"MA35TH\", \"MA35WA\", \"MA35curriculum\", \"MC25FI\", \"MC25MU\", \"MC25RE\", \"MC25SI\", \"MC25SN\", \"MC25TH\", \"MC25WA\", \"MC25curriculum\", \"MC27FI\", \"MC27MU\", \"MC27RE\", \"MC27SI\", \"MC27SN\", \"MC27TH\", \"MC27WA\", \"MC27curriculum\", \"MC30FI\", \"MC30MU\", \"MC30RE\", \"MC30SI\", \"MC30SN\", \"MC30TH\", \"MC30WA\", \"MC30curriculum\", \"MC31FI\", \"MC31MU\", \"MC31RE\", \"MC31SI\", \"MC31SN\", \"MC31TH\", \"MC31WA\", \"MC31curriculum\", \"MC32FI\", \"MC32MU\", \"MC32RE\", \"MC32SI\", \"MC32SN\", \"MC32TH\", \"MC32WA\", \"MC32curriculum\", \"MC33FI\", \"MC33MU\", \"MC33RE\", \"MC33SI\", \"MC33SN\", \"MC33TH\", \"MC33WA\", \"MC33curriculum\", \"MC34FI\", \"MC34MU\", \"MC34RE\", \"MC34SI\", \"MC34SN\", \"MC34TH\", \"MC34WA\", \"MC34curriculum\", \"NA25FI\", \"NA25MU\", \"NA25RE\", \"NA25SI\", \"NA25SN\", \"NA25TH\", \"NA25WA\", \"NA25curriculum\", \"PY26FI\", \"PY26MU\", \"PY26RE\", \"PY26SI\", \"PY26SN\", \"PY26TH\", \"PY26WA\", \"PY26curriculum\", \"PY28FI\", \"PY28MU\", \"PY28RE\", \"PY28SI\", \"PY28SN\", \"PY28TH\", \"PY28WA\", \"PY28curriculum\", \"PY29FI\", \"PY29MU\", \"PY29RE\", \"PY29SI\", \"PY29SN\", \"PY29TH\", \"PY29WA\", \"PY29curriculum\", \"PY30FI\", \"PY30MU\", \"PY30RE\", \"PY30SI\", \"PY30SN\", \"PY30TH\", \"PY30WA\", \"PY30curriculum\", \"PY31FI\", \"PY31MU\", \"PY31RE\", \"PY31SI\", \"PY31SN\", \"PY31TH\", \"PY31WA\", \"PY31curriculum\", \"PY32FI\", \"PY32MU\", \"PY32RE\", \"PY32SI\", \"PY32SN\", \"PY32TH\", \"PY32WA\", \"PY32curriculum\", \"PY33FI\", \"PY33MU\", \"PY33RE\", \"PY33SI\", \"PY33SN\", \"PY33TH\", \"PY33WA\", \"PY33curriculum\", \"PY34FI\", \"PY34MU\", \"PY34RE\", \"PY34SI\", \"PY34SN\", \"PY34TH\", \"PY34WA\", \"PY34curriculum\", \"SE27FI\", \"SE27MU\", \"SE27RE\", \"SE27SI\", \"SE27SN\", \"SE27TH\", \"SE27WA\", \"SE27curriculum\", \"SI30FI\", \"SI30MU\", \"SI30RE\", \"SI30SI\", \"SI30SN\", \"SI30TH\", \"SI30WA\", \"SI30curriculum\", \"SI31FI\", \"SI31MU\", \"SI31RE\", \"SI31SI\", \"SI31SN\", \"SI31TH\", \"SI31WA\", \"SI31curriculum\"]"
     ]
    }
   ],
   "source": [
    "# get all the paths that depend on me\n",
    "## first, get me\n",
    "#UCSD = read_csv(\"./targets/condensed.csv\");\n",
    "course = course_from_name(new_UCSD,new_course_name);\n",
    "my_centrality_paths = centrality_investigator(course,new_UCSD);\n",
    "if length(my_centrality_paths) > 0\n",
    "    # ok actually do stuff\n",
    "    # the gist is:\n",
    "    # look at all the paths that I'm a prereq for and for each path take the intersection of their majors\n",
    "    ## get all the paths that depend on me:\n",
    "    prereq_set = Set()\n",
    "    dep_set = Set()\n",
    "    for path in my_centrality_paths\n",
    "        my_index = findall(x->x==course,path)[1]\n",
    "        # course is path[my_index]\n",
    "        # TODO: edge cases based on length\n",
    "        my_prereqs = path[1:my_index-1]\n",
    "        my_deps = path[my_index+1:end]\n",
    "        #= HUGE EDIT: only analyze the dependencies\n",
    "        path_set = Set()\n",
    "        for prereq in my_prereqs\n",
    "            if isempty(path_set)\n",
    "                path_set = Set(split(prereq.canonical_name,\",\"))\n",
    "            else\n",
    "                intersect!(path_set,Set(split(prereq.canonical_name,\",\")))\n",
    "            end\n",
    "        end\n",
    "        union!(prereq_set,path_set)\n",
    "        =#\n",
    "        path_set=Set()\n",
    "        for dep in my_deps\n",
    "            if isempty(path_set)\n",
    "                path_set = Set(split(dep.canonical_name,\",\"))\n",
    "            else\n",
    "                union!(path_set,Set(split(dep.canonical_name,\",\")))\n",
    "            end\n",
    "        end\n",
    "        union!(dep_set,path_set)\n",
    "        \n",
    "    end\n",
    "    full_set = union(prereq_set,dep_set)\n",
    "    full_set = sort(collect(full_set))\n",
    "    print(full_set)           \n",
    "    # look at all the paths that depend on me and for each path take the union of their majors\n",
    "    # then combine the two sets\n",
    "else\n",
    "    # ok this seems to not affect any majors because it's not been hooked up to anything\n",
    "    println(\"This course hasn't been hooked up to anything, it didn't affect any majors other than the one it is in\");\n",
    "end"
   ]
  },
  {
   "cell_type": "code",
   "execution_count": 13,
   "metadata": {},
   "outputs": [
    {
     "data": {
      "text/plain": [
       "16-element Vector{SubString{String}}:\n",
       " \"CS26FI\"\n",
       " \"CS26MU\"\n",
       " \"CS26RE\"\n",
       " \"CS26SI\"\n",
       " \"CS26SN\"\n",
       " \"CS26TH\"\n",
       " \"CS26WA\"\n",
       " \"CS26curriculum\"\n",
       " \"PB26FI\"\n",
       " \"PB26MU\"\n",
       " \"PB26RE\"\n",
       " \"PB26SI\"\n",
       " \"PB26SN\"\n",
       " \"PB26TH\"\n",
       " \"PB26WA\"\n",
       " \"PB26curriculum\""
      ]
     },
     "metadata": {},
     "output_type": "display_data"
    }
   ],
   "source": [
    "# what is in the 20c canon name but not in the calculated set\n",
    "sort(collect(setdiff(Set(split(course.canonical_name,\",\")),full_set)))"
   ]
  },
  {
   "cell_type": "code",
   "execution_count": 16,
   "metadata": {},
   "outputs": [
    {
     "name": "stdout",
     "output_type": "stream",
     "text": [
      "BE27FI\n",
      "BE27MU\n",
      "BE27RE\n",
      "BE27SI\n",
      "BE27SN\n",
      "BE27TH\n",
      "BE27WA\n",
      "BE27curriculum\n",
      "BE29FI\n",
      "BE29MU\n",
      "BE29RE\n",
      "BE29SI\n",
      "BE29SN\n",
      "BE29TH\n",
      "BE29WA\n",
      "BE29curriculum\n",
      "CH35FI\n",
      "CH35MU\n",
      "CH35RE\n",
      "CH35SI\n",
      "CH35SN\n",
      "CH35TH\n",
      "CH35WA\n",
      "CH35curriculum\n",
      "CH38FI\n",
      "CH38MU\n",
      "CH38RE\n",
      "CH38SI\n",
      "CH38SN\n",
      "CH38TH\n",
      "CH38WA\n",
      "CH38curriculum\n"
     ]
    }
   ],
   "source": [
    "# what is in the full set but not in the 20c canon name\n",
    "for val in sort(collect(setdiff(full_set,Set(split(course.canonical_name,\",\")))))\n",
    "    println(val)\n",
    "end"
   ]
  },
  {
   "cell_type": "markdown",
   "metadata": {},
   "source": [
    "Adding a prerequisite is simple. It should affect every major that the class is in. For example, if we make CHEM 6C a prerequisite of 20C, every major that 20C is in should be affected. "
   ]
  },
  {
   "cell_type": "code",
   "execution_count": 17,
   "metadata": {},
   "outputs": [
    {
     "name": "stdout",
     "output_type": "stream",
     "text": [
      "\n",
      "BE25: FI, MU, RE, SI, SN, TH, WA, curriculum, \n",
      "BE28: FI, MU, RE, SI, SN, TH, WA, curriculum, \n",
      "BI34: FI, MU, RE, SI, SN, TH, WA, curriculum, \n",
      "CE25: FI, MU, RE, SI, SN, TH, WA, curriculum, \n",
      "CH25: FI, MU, RE, SI, SN, TH, WA, curriculum, \n",
      "CH34: FI, MU, RE, SI, SN, TH, WA, curriculum, \n",
      "CH36: FI, MU, RE, SI, SN, TH, WA, curriculum, \n",
      "CS25: FI, MU, RE, SI, SN, TH, WA, curriculum, \n",
      "CS26: FI, MU, RE, SI, SN, TH, WA, curriculum, \n",
      "CS27: FI, MU, RE, SI, SN, TH, WA, curriculum, \n",
      "DS25: FI, MU, RE, SI, SN, TH, WA, curriculum, \n",
      "EC26: FI, MU, RE, SI, SN, TH, WA, curriculum, \n",
      "EC27: FI, MU, RE, SI, SN, TH, WA, curriculum, \n",
      "EC28: FI, MU, RE, SI, SN, TH, WA, curriculum, \n",
      "EC37: FI, MU, RE, SI, SN, TH, WA, curriculum, \n",
      "EN25: FI, MU, RE, SI, SN, TH, WA, curriculum, \n",
      "EN28: FI, MU, RE, SI, SN, TH, WA, curriculum, \n",
      "EN30: FI, MU, RE, SI, SN, TH, WA, curriculum, \n",
      "ES25: FI, MU, RE, SI, SN, TH, WA, curriculum, \n",
      "ES27: FI, MU, RE, SI, SN, TH, WA, curriculum, \n",
      "MA27: FI, MU, RE, SI, SN, TH, WA, curriculum, \n",
      "MA29: FI, MU, RE, SI, SN, TH, WA, curriculum, \n",
      "MA30: FI, MU, RE, SI, SN, TH, WA, curriculum, \n",
      "MA31: FI, MU, RE, SI, SN, TH, WA, curriculum, \n",
      "MA32: FI, MU, RE, SI, SN, TH, WA, curriculum, \n",
      "MA33: FI, MU, RE, SI, SN, TH, WA, curriculum, \n",
      "MA35: FI, MU, RE, SI, SN, TH, WA, curriculum, \n",
      "MC25: FI, MU, RE, SI, SN, TH, WA, curriculum, \n",
      "MC27: FI, MU, RE, SI, SN, TH, WA, curriculum, \n",
      "MC30: FI, MU, RE, SI, SN, TH, WA, curriculum, \n",
      "MC31: FI, MU, RE, SI, SN, TH, WA, curriculum, \n",
      "MC32: FI, MU, RE, SI, SN, TH, WA, curriculum, \n",
      "MC33: FI, MU, RE, SI, SN, TH, WA, curriculum, \n",
      "MC34: FI, MU, RE, SI, SN, TH, WA, curriculum, \n",
      "NA25: FI, MU, RE, SI, SN, TH, WA, curriculum, \n",
      "PB26: FI, MU, RE, SI, SN, TH, WA, curriculum, \n",
      "PY26: FI, MU, RE, SI, SN, TH, WA, curriculum, \n",
      "PY28: FI, MU, RE, SI, SN, TH, WA, curriculum, \n",
      "PY29: FI, MU, RE, SI, SN, TH, WA, curriculum, \n",
      "PY30: FI, MU, RE, SI, SN, TH, WA, curriculum, \n",
      "PY31: FI, MU, RE, SI, SN, TH, WA, curriculum, \n",
      "PY32: FI, MU, RE, SI, SN, TH, WA, curriculum, \n",
      "PY33: FI, MU, RE, SI, SN, TH, WA, curriculum, \n",
      "PY34: FI, MU, RE, SI, SN, TH, WA, curriculum, \n",
      "SE27: FI, MU, RE, SI, SN, TH, WA, curriculum, \n",
      "SI30: FI, MU, RE, SI, SN, TH, WA, curriculum, \n",
      "SI31: FI, MU, RE, SI, SN, TH, WA, curriculum, \n",
      "Affected plans: 376"
     ]
    }
   ],
   "source": [
    "UCSD = read_csv(\"./targets/condensed.csv\");\n",
    "course_with_new_prereq = \"MATH 20C\"\n",
    "course_with_new_prereq = course_from_name(UCSD,course_with_new_prereq);\n",
    "affected_majors = split(course_with_new_prereq.canonical_name,\",\");\n",
    "prev_major = \"PL99\";\n",
    "count = 0;\n",
    "for major in affected_majors\n",
    "    if major != \"\" \n",
    "        if major[1:4] != prev_major[1:4]\n",
    "            prev_major = major\n",
    "            print(\"\\n$(major[1:4]): $(major[5:end]), \");\n",
    "            count += 1\n",
    "        elseif major != prev_major\n",
    "            prev_major = major\n",
    "            print(\"$(major[5:end]), \");\n",
    "            count += 1\n",
    "        end\n",
    "    end\n",
    "end\n",
    "println()\n",
    "print(\"Affected plans: $count\")"
   ]
  },
  {
   "cell_type": "code",
   "execution_count": null,
   "metadata": {},
   "outputs": [],
   "source": []
  }
 ],
 "metadata": {
  "kernelspec": {
   "display_name": "Julia 1.7.2",
   "language": "julia",
   "name": "julia-1.7"
  },
  "language_info": {
   "file_extension": ".jl",
   "mimetype": "application/julia",
   "name": "julia",
   "version": "1.7.2"
  }
 },
 "nbformat": 4,
 "nbformat_minor": 4
}
